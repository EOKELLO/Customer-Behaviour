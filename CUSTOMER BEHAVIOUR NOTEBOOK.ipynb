{
 "cells": [
  {
   "cell_type": "markdown",
   "metadata": {},
   "source": [
    "PROBLEM DEFINITION"
   ]
  },
  {
   "cell_type": "markdown",
   "metadata": {},
   "source": [
    "To help Kira Plastinina to understand their customer behaviour using the data they have collected."
   ]
  },
  {
   "cell_type": "markdown",
   "metadata": {},
   "source": [
    "METRICS OF SUCCESS"
   ]
  },
  {
   "cell_type": "markdown",
   "metadata": {},
   "source": [
    "Create a model that distinctively categorizes the customer when visualised"
   ]
  },
  {
   "cell_type": "markdown",
   "metadata": {},
   "source": [
    "THE CONTEXT"
   ]
  },
  {
   "cell_type": "markdown",
   "metadata": {},
   "source": [
    "we shall use the historical data collected by Kira Plastinina to establish the customer behaviour and try to segment the customers\n",
    "Company - Kira Plastinina has since defunct\n",
    "\n",
    "Products for selling - Mainly all-occasion gifts\n",
    "\n",
    "Customers - Most are wholesalers (local or international)\n",
    "\n",
    "Transactions Period - 1st Dec 2010 - 9th Dec 2011 (One year)"
   ]
  },
  {
   "cell_type": "markdown",
   "metadata": {},
   "source": [
    "EXPERIMENTAL DESIGN"
   ]
  },
  {
   "cell_type": "markdown",
   "metadata": {},
   "source": [
    "1.Problem Definition\n",
    "2.Data Sourcing\n",
    "3.Check the Data\n",
    "4.Perform Data Cleaning\n",
    "5.Perform Exploratory Data Analysis  (Univariate, 6.Bivariate & Multivariate)\n",
    "7.Implement the Solution\n",
    "8.Challenge the Solution\n",
    "9.Follow up Questions"
   ]
  },
  {
   "cell_type": "markdown",
   "metadata": {},
   "source": [
    "APPROPRIATENESS OF THE DATA"
   ]
  },
  {
   "cell_type": "markdown",
   "metadata": {},
   "source": [
    "1.The data is appropriate in terms of volume and relevance"
   ]
  },
  {
   "cell_type": "code",
   "execution_count": 1,
   "metadata": {},
   "outputs": [],
   "source": [
    "#install.packages('DataExplorer')"
   ]
  },
  {
   "cell_type": "code",
   "execution_count": 2,
   "metadata": {},
   "outputs": [
    {
     "name": "stderr",
     "output_type": "stream",
     "text": [
      "\n",
      "Attaching package: 'dplyr'\n",
      "\n",
      "The following objects are masked from 'package:stats':\n",
      "\n",
      "    filter, lag\n",
      "\n",
      "The following objects are masked from 'package:base':\n",
      "\n",
      "    intersect, setdiff, setequal, union\n",
      "\n",
      "Registered S3 method overwritten by 'rvest':\n",
      "  method            from\n",
      "  read_xml.response xml2\n",
      "-- Attaching packages --------------------------------------- tidyverse 1.2.1 --\n",
      "v tibble  2.1.3     v purrr   0.3.3\n",
      "v tidyr   0.8.3     v stringr 1.4.0\n",
      "v tibble  2.1.3     v forcats 0.4.0\n",
      "-- Conflicts ------------------------------------------ tidyverse_conflicts() --\n",
      "x dplyr::filter() masks stats::filter()\n",
      "x dplyr::lag()    masks stats::lag()\n",
      "Loading required package: magrittr\n",
      "\n",
      "Attaching package: 'magrittr'\n",
      "\n",
      "The following object is masked from 'package:purrr':\n",
      "\n",
      "    set_names\n",
      "\n",
      "The following object is masked from 'package:tidyr':\n",
      "\n",
      "    extract\n",
      "\n"
     ]
    }
   ],
   "source": [
    "#Importing libraries\n",
    "library(readr)\n",
    "library(dplyr)\n",
    "library(ggplot2)\n",
    "library(DataExplorer)\n",
    "library(tidyverse)\n",
    "library(DescTools)\n",
    "library(ggpubr)"
   ]
  },
  {
   "cell_type": "markdown",
   "metadata": {},
   "source": [
    "Data Sourcing"
   ]
  },
  {
   "cell_type": "code",
   "execution_count": 3,
   "metadata": {},
   "outputs": [],
   "source": [
    "#our data source\n",
    "url <- \"http://bit.ly/EcommerceCustomersDataset\"\n",
    "customer <- read.csv(url)"
   ]
  },
  {
   "cell_type": "markdown",
   "metadata": {},
   "source": [
    "CHECKING OUR DATASET"
   ]
  },
  {
   "cell_type": "code",
   "execution_count": 4,
   "metadata": {},
   "outputs": [
    {
     "data": {
      "text/html": [
       "<table>\n",
       "<thead><tr><th scope=col>Administrative</th><th scope=col>Administrative_Duration</th><th scope=col>Informational</th><th scope=col>Informational_Duration</th><th scope=col>ProductRelated</th><th scope=col>ProductRelated_Duration</th><th scope=col>BounceRates</th><th scope=col>ExitRates</th><th scope=col>PageValues</th><th scope=col>SpecialDay</th><th scope=col>Month</th><th scope=col>OperatingSystems</th><th scope=col>Browser</th><th scope=col>Region</th><th scope=col>TrafficType</th><th scope=col>VisitorType</th><th scope=col>Weekend</th><th scope=col>Revenue</th></tr></thead>\n",
       "<tbody>\n",
       "\t<tr><td>0                </td><td> 0               </td><td>0                </td><td> 0               </td><td> 1               </td><td>  0.000000       </td><td>0.20000000       </td><td>0.2000000        </td><td>0                </td><td>0                </td><td>Feb              </td><td>1                </td><td>1                </td><td>1                </td><td>1                </td><td>Returning_Visitor</td><td>FALSE            </td><td>FALSE            </td></tr>\n",
       "\t<tr><td>0                </td><td> 0               </td><td>0                </td><td> 0               </td><td> 2               </td><td> 64.000000       </td><td>0.00000000       </td><td>0.1000000        </td><td>0                </td><td>0                </td><td>Feb              </td><td>2                </td><td>2                </td><td>1                </td><td>2                </td><td>Returning_Visitor</td><td>FALSE            </td><td>FALSE            </td></tr>\n",
       "\t<tr><td>0                </td><td>-1               </td><td>0                </td><td>-1               </td><td> 1               </td><td> -1.000000       </td><td>0.20000000       </td><td>0.2000000        </td><td>0                </td><td>0                </td><td>Feb              </td><td>4                </td><td>1                </td><td>9                </td><td>3                </td><td>Returning_Visitor</td><td>FALSE            </td><td>FALSE            </td></tr>\n",
       "\t<tr><td>0                </td><td> 0               </td><td>0                </td><td> 0               </td><td> 2               </td><td>  2.666667       </td><td>0.05000000       </td><td>0.1400000        </td><td>0                </td><td>0                </td><td>Feb              </td><td>3                </td><td>2                </td><td>2                </td><td>4                </td><td>Returning_Visitor</td><td>FALSE            </td><td>FALSE            </td></tr>\n",
       "\t<tr><td>0                </td><td> 0               </td><td>0                </td><td> 0               </td><td>10               </td><td>627.500000       </td><td>0.02000000       </td><td>0.0500000        </td><td>0                </td><td>0                </td><td>Feb              </td><td>3                </td><td>3                </td><td>1                </td><td>4                </td><td>Returning_Visitor</td><td> TRUE            </td><td>FALSE            </td></tr>\n",
       "\t<tr><td>0                </td><td> 0               </td><td>0                </td><td> 0               </td><td>19               </td><td>154.216667       </td><td>0.01578947       </td><td>0.0245614        </td><td>0                </td><td>0                </td><td>Feb              </td><td>2                </td><td>2                </td><td>1                </td><td>3                </td><td>Returning_Visitor</td><td>FALSE            </td><td>FALSE            </td></tr>\n",
       "</tbody>\n",
       "</table>\n"
      ],
      "text/latex": [
       "\\begin{tabular}{r|llllllllllllllllll}\n",
       " Administrative & Administrative\\_Duration & Informational & Informational\\_Duration & ProductRelated & ProductRelated\\_Duration & BounceRates & ExitRates & PageValues & SpecialDay & Month & OperatingSystems & Browser & Region & TrafficType & VisitorType & Weekend & Revenue\\\\\n",
       "\\hline\n",
       "\t 0                   &  0                  & 0                   &  0                  &  1                  &   0.000000          & 0.20000000          & 0.2000000           & 0                   & 0                   & Feb                 & 1                   & 1                   & 1                   & 1                   & Returning\\_Visitor & FALSE               & FALSE              \\\\\n",
       "\t 0                   &  0                  & 0                   &  0                  &  2                  &  64.000000          & 0.00000000          & 0.1000000           & 0                   & 0                   & Feb                 & 2                   & 2                   & 1                   & 2                   & Returning\\_Visitor & FALSE               & FALSE              \\\\\n",
       "\t 0                   & -1                  & 0                   & -1                  &  1                  &  -1.000000          & 0.20000000          & 0.2000000           & 0                   & 0                   & Feb                 & 4                   & 1                   & 9                   & 3                   & Returning\\_Visitor & FALSE               & FALSE              \\\\\n",
       "\t 0                   &  0                  & 0                   &  0                  &  2                  &   2.666667          & 0.05000000          & 0.1400000           & 0                   & 0                   & Feb                 & 3                   & 2                   & 2                   & 4                   & Returning\\_Visitor & FALSE               & FALSE              \\\\\n",
       "\t 0                   &  0                  & 0                   &  0                  & 10                  & 627.500000          & 0.02000000          & 0.0500000           & 0                   & 0                   & Feb                 & 3                   & 3                   & 1                   & 4                   & Returning\\_Visitor &  TRUE               & FALSE              \\\\\n",
       "\t 0                   &  0                  & 0                   &  0                  & 19                  & 154.216667          & 0.01578947          & 0.0245614           & 0                   & 0                   & Feb                 & 2                   & 2                   & 1                   & 3                   & Returning\\_Visitor & FALSE               & FALSE              \\\\\n",
       "\\end{tabular}\n"
      ],
      "text/markdown": [
       "\n",
       "| Administrative | Administrative_Duration | Informational | Informational_Duration | ProductRelated | ProductRelated_Duration | BounceRates | ExitRates | PageValues | SpecialDay | Month | OperatingSystems | Browser | Region | TrafficType | VisitorType | Weekend | Revenue |\n",
       "|---|---|---|---|---|---|---|---|---|---|---|---|---|---|---|---|---|---|\n",
       "| 0                 |  0                | 0                 |  0                |  1                |   0.000000        | 0.20000000        | 0.2000000         | 0                 | 0                 | Feb               | 1                 | 1                 | 1                 | 1                 | Returning_Visitor | FALSE             | FALSE             |\n",
       "| 0                 |  0                | 0                 |  0                |  2                |  64.000000        | 0.00000000        | 0.1000000         | 0                 | 0                 | Feb               | 2                 | 2                 | 1                 | 2                 | Returning_Visitor | FALSE             | FALSE             |\n",
       "| 0                 | -1                | 0                 | -1                |  1                |  -1.000000        | 0.20000000        | 0.2000000         | 0                 | 0                 | Feb               | 4                 | 1                 | 9                 | 3                 | Returning_Visitor | FALSE             | FALSE             |\n",
       "| 0                 |  0                | 0                 |  0                |  2                |   2.666667        | 0.05000000        | 0.1400000         | 0                 | 0                 | Feb               | 3                 | 2                 | 2                 | 4                 | Returning_Visitor | FALSE             | FALSE             |\n",
       "| 0                 |  0                | 0                 |  0                | 10                | 627.500000        | 0.02000000        | 0.0500000         | 0                 | 0                 | Feb               | 3                 | 3                 | 1                 | 4                 | Returning_Visitor |  TRUE             | FALSE             |\n",
       "| 0                 |  0                | 0                 |  0                | 19                | 154.216667        | 0.01578947        | 0.0245614         | 0                 | 0                 | Feb               | 2                 | 2                 | 1                 | 3                 | Returning_Visitor | FALSE             | FALSE             |\n",
       "\n"
      ],
      "text/plain": [
       "  Administrative Administrative_Duration Informational Informational_Duration\n",
       "1 0               0                      0              0                    \n",
       "2 0               0                      0              0                    \n",
       "3 0              -1                      0             -1                    \n",
       "4 0               0                      0              0                    \n",
       "5 0               0                      0              0                    \n",
       "6 0               0                      0              0                    \n",
       "  ProductRelated ProductRelated_Duration BounceRates ExitRates PageValues\n",
       "1  1               0.000000              0.20000000  0.2000000 0         \n",
       "2  2              64.000000              0.00000000  0.1000000 0         \n",
       "3  1              -1.000000              0.20000000  0.2000000 0         \n",
       "4  2               2.666667              0.05000000  0.1400000 0         \n",
       "5 10             627.500000              0.02000000  0.0500000 0         \n",
       "6 19             154.216667              0.01578947  0.0245614 0         \n",
       "  SpecialDay Month OperatingSystems Browser Region TrafficType\n",
       "1 0          Feb   1                1       1      1          \n",
       "2 0          Feb   2                2       1      2          \n",
       "3 0          Feb   4                1       9      3          \n",
       "4 0          Feb   3                2       2      4          \n",
       "5 0          Feb   3                3       1      4          \n",
       "6 0          Feb   2                2       1      3          \n",
       "  VisitorType       Weekend Revenue\n",
       "1 Returning_Visitor FALSE   FALSE  \n",
       "2 Returning_Visitor FALSE   FALSE  \n",
       "3 Returning_Visitor FALSE   FALSE  \n",
       "4 Returning_Visitor FALSE   FALSE  \n",
       "5 Returning_Visitor  TRUE   FALSE  \n",
       "6 Returning_Visitor FALSE   FALSE  "
      ]
     },
     "metadata": {},
     "output_type": "display_data"
    }
   ],
   "source": [
    "head(customer)"
   ]
  },
  {
   "cell_type": "code",
   "execution_count": 5,
   "metadata": {},
   "outputs": [
    {
     "data": {
      "text/html": [
       "<table>\n",
       "<thead><tr><th></th><th scope=col>Administrative</th><th scope=col>Administrative_Duration</th><th scope=col>Informational</th><th scope=col>Informational_Duration</th><th scope=col>ProductRelated</th><th scope=col>ProductRelated_Duration</th><th scope=col>BounceRates</th><th scope=col>ExitRates</th><th scope=col>PageValues</th><th scope=col>SpecialDay</th><th scope=col>Month</th><th scope=col>OperatingSystems</th><th scope=col>Browser</th><th scope=col>Region</th><th scope=col>TrafficType</th><th scope=col>VisitorType</th><th scope=col>Weekend</th><th scope=col>Revenue</th></tr></thead>\n",
       "<tbody>\n",
       "\t<tr><th scope=row>12325</th><td>0                </td><td>  0              </td><td>1                </td><td>0                </td><td>16               </td><td> 503.000         </td><td>0.000000000      </td><td>0.03764706       </td><td> 0.00000         </td><td>0                </td><td>Nov              </td><td>2                </td><td>2                </td><td>1                </td><td> 1               </td><td>Returning_Visitor</td><td>FALSE            </td><td>FALSE            </td></tr>\n",
       "\t<tr><th scope=row>12326</th><td>3                </td><td>145              </td><td>0                </td><td>0                </td><td>53               </td><td>1783.792         </td><td>0.007142857      </td><td>0.02903061       </td><td>12.24172         </td><td>0                </td><td>Dec              </td><td>4                </td><td>6                </td><td>1                </td><td> 1               </td><td>Returning_Visitor</td><td> TRUE            </td><td>FALSE            </td></tr>\n",
       "\t<tr><th scope=row>12327</th><td>0                </td><td>  0              </td><td>0                </td><td>0                </td><td> 5               </td><td> 465.750         </td><td>0.000000000      </td><td>0.02133333       </td><td> 0.00000         </td><td>0                </td><td>Nov              </td><td>3                </td><td>2                </td><td>1                </td><td> 8               </td><td>Returning_Visitor</td><td> TRUE            </td><td>FALSE            </td></tr>\n",
       "\t<tr><th scope=row>12328</th><td>0                </td><td>  0              </td><td>0                </td><td>0                </td><td> 6               </td><td> 184.250         </td><td>0.083333333      </td><td>0.08666667       </td><td> 0.00000         </td><td>0                </td><td>Nov              </td><td>3                </td><td>2                </td><td>1                </td><td>13               </td><td>Returning_Visitor</td><td> TRUE            </td><td>FALSE            </td></tr>\n",
       "\t<tr><th scope=row>12329</th><td>4                </td><td> 75              </td><td>0                </td><td>0                </td><td>15               </td><td> 346.000         </td><td>0.000000000      </td><td>0.02105263       </td><td> 0.00000         </td><td>0                </td><td>Nov              </td><td>2                </td><td>2                </td><td>3                </td><td>11               </td><td>Returning_Visitor</td><td>FALSE            </td><td>FALSE            </td></tr>\n",
       "\t<tr><th scope=row>12330</th><td>0                </td><td>  0              </td><td>0                </td><td>0                </td><td> 3               </td><td>  21.250         </td><td>0.000000000      </td><td>0.06666667       </td><td> 0.00000         </td><td>0                </td><td>Nov              </td><td>3                </td><td>2                </td><td>1                </td><td> 2               </td><td>New_Visitor      </td><td> TRUE            </td><td>FALSE            </td></tr>\n",
       "</tbody>\n",
       "</table>\n"
      ],
      "text/latex": [
       "\\begin{tabular}{r|llllllllllllllllll}\n",
       "  & Administrative & Administrative\\_Duration & Informational & Informational\\_Duration & ProductRelated & ProductRelated\\_Duration & BounceRates & ExitRates & PageValues & SpecialDay & Month & OperatingSystems & Browser & Region & TrafficType & VisitorType & Weekend & Revenue\\\\\n",
       "\\hline\n",
       "\t12325 & 0                   &   0                 & 1                   & 0                   & 16                  &  503.000            & 0.000000000         & 0.03764706          &  0.00000            & 0                   & Nov                 & 2                   & 2                   & 1                   &  1                  & Returning\\_Visitor & FALSE               & FALSE              \\\\\n",
       "\t12326 & 3                   & 145                 & 0                   & 0                   & 53                  & 1783.792            & 0.007142857         & 0.02903061          & 12.24172            & 0                   & Dec                 & 4                   & 6                   & 1                   &  1                  & Returning\\_Visitor &  TRUE               & FALSE              \\\\\n",
       "\t12327 & 0                   &   0                 & 0                   & 0                   &  5                  &  465.750            & 0.000000000         & 0.02133333          &  0.00000            & 0                   & Nov                 & 3                   & 2                   & 1                   &  8                  & Returning\\_Visitor &  TRUE               & FALSE              \\\\\n",
       "\t12328 & 0                   &   0                 & 0                   & 0                   &  6                  &  184.250            & 0.083333333         & 0.08666667          &  0.00000            & 0                   & Nov                 & 3                   & 2                   & 1                   & 13                  & Returning\\_Visitor &  TRUE               & FALSE              \\\\\n",
       "\t12329 & 4                   &  75                 & 0                   & 0                   & 15                  &  346.000            & 0.000000000         & 0.02105263          &  0.00000            & 0                   & Nov                 & 2                   & 2                   & 3                   & 11                  & Returning\\_Visitor & FALSE               & FALSE              \\\\\n",
       "\t12330 & 0                   &   0                 & 0                   & 0                   &  3                  &   21.250            & 0.000000000         & 0.06666667          &  0.00000            & 0                   & Nov                 & 3                   & 2                   & 1                   &  2                  & New\\_Visitor       &  TRUE               & FALSE              \\\\\n",
       "\\end{tabular}\n"
      ],
      "text/markdown": [
       "\n",
       "| <!--/--> | Administrative | Administrative_Duration | Informational | Informational_Duration | ProductRelated | ProductRelated_Duration | BounceRates | ExitRates | PageValues | SpecialDay | Month | OperatingSystems | Browser | Region | TrafficType | VisitorType | Weekend | Revenue |\n",
       "|---|---|---|---|---|---|---|---|---|---|---|---|---|---|---|---|---|---|---|\n",
       "| 12325 | 0                 |   0               | 1                 | 0                 | 16                |  503.000          | 0.000000000       | 0.03764706        |  0.00000          | 0                 | Nov               | 2                 | 2                 | 1                 |  1                | Returning_Visitor | FALSE             | FALSE             |\n",
       "| 12326 | 3                 | 145               | 0                 | 0                 | 53                | 1783.792          | 0.007142857       | 0.02903061        | 12.24172          | 0                 | Dec               | 4                 | 6                 | 1                 |  1                | Returning_Visitor |  TRUE             | FALSE             |\n",
       "| 12327 | 0                 |   0               | 0                 | 0                 |  5                |  465.750          | 0.000000000       | 0.02133333        |  0.00000          | 0                 | Nov               | 3                 | 2                 | 1                 |  8                | Returning_Visitor |  TRUE             | FALSE             |\n",
       "| 12328 | 0                 |   0               | 0                 | 0                 |  6                |  184.250          | 0.083333333       | 0.08666667        |  0.00000          | 0                 | Nov               | 3                 | 2                 | 1                 | 13                | Returning_Visitor |  TRUE             | FALSE             |\n",
       "| 12329 | 4                 |  75               | 0                 | 0                 | 15                |  346.000          | 0.000000000       | 0.02105263        |  0.00000          | 0                 | Nov               | 2                 | 2                 | 3                 | 11                | Returning_Visitor | FALSE             | FALSE             |\n",
       "| 12330 | 0                 |   0               | 0                 | 0                 |  3                |   21.250          | 0.000000000       | 0.06666667        |  0.00000          | 0                 | Nov               | 3                 | 2                 | 1                 |  2                | New_Visitor       |  TRUE             | FALSE             |\n",
       "\n"
      ],
      "text/plain": [
       "      Administrative Administrative_Duration Informational\n",
       "12325 0                0                     1            \n",
       "12326 3              145                     0            \n",
       "12327 0                0                     0            \n",
       "12328 0                0                     0            \n",
       "12329 4               75                     0            \n",
       "12330 0                0                     0            \n",
       "      Informational_Duration ProductRelated ProductRelated_Duration BounceRates\n",
       "12325 0                      16              503.000                0.000000000\n",
       "12326 0                      53             1783.792                0.007142857\n",
       "12327 0                       5              465.750                0.000000000\n",
       "12328 0                       6              184.250                0.083333333\n",
       "12329 0                      15              346.000                0.000000000\n",
       "12330 0                       3               21.250                0.000000000\n",
       "      ExitRates  PageValues SpecialDay Month OperatingSystems Browser Region\n",
       "12325 0.03764706  0.00000   0          Nov   2                2       1     \n",
       "12326 0.02903061 12.24172   0          Dec   4                6       1     \n",
       "12327 0.02133333  0.00000   0          Nov   3                2       1     \n",
       "12328 0.08666667  0.00000   0          Nov   3                2       1     \n",
       "12329 0.02105263  0.00000   0          Nov   2                2       3     \n",
       "12330 0.06666667  0.00000   0          Nov   3                2       1     \n",
       "      TrafficType VisitorType       Weekend Revenue\n",
       "12325  1          Returning_Visitor FALSE   FALSE  \n",
       "12326  1          Returning_Visitor  TRUE   FALSE  \n",
       "12327  8          Returning_Visitor  TRUE   FALSE  \n",
       "12328 13          Returning_Visitor  TRUE   FALSE  \n",
       "12329 11          Returning_Visitor FALSE   FALSE  \n",
       "12330  2          New_Visitor        TRUE   FALSE  "
      ]
     },
     "metadata": {},
     "output_type": "display_data"
    }
   ],
   "source": [
    "tail(customer)"
   ]
  },
  {
   "cell_type": "code",
   "execution_count": 6,
   "metadata": {},
   "outputs": [
    {
     "data": {
      "text/html": [
       "<ol class=list-inline>\n",
       "\t<li>12330</li>\n",
       "\t<li>18</li>\n",
       "</ol>\n"
      ],
      "text/latex": [
       "\\begin{enumerate*}\n",
       "\\item 12330\n",
       "\\item 18\n",
       "\\end{enumerate*}\n"
      ],
      "text/markdown": [
       "1. 12330\n",
       "2. 18\n",
       "\n",
       "\n"
      ],
      "text/plain": [
       "[1] 12330    18"
      ]
     },
     "metadata": {},
     "output_type": "display_data"
    }
   ],
   "source": [
    "dim(customer)"
   ]
  },
  {
   "cell_type": "code",
   "execution_count": 7,
   "metadata": {},
   "outputs": [
    {
     "data": {
      "text/html": [
       "<ol class=list-inline>\n",
       "\t<li>'Administrative'</li>\n",
       "\t<li>'Administrative_Duration'</li>\n",
       "\t<li>'Informational'</li>\n",
       "\t<li>'Informational_Duration'</li>\n",
       "\t<li>'ProductRelated'</li>\n",
       "\t<li>'ProductRelated_Duration'</li>\n",
       "\t<li>'BounceRates'</li>\n",
       "\t<li>'ExitRates'</li>\n",
       "\t<li>'PageValues'</li>\n",
       "\t<li>'SpecialDay'</li>\n",
       "\t<li>'Month'</li>\n",
       "\t<li>'OperatingSystems'</li>\n",
       "\t<li>'Browser'</li>\n",
       "\t<li>'Region'</li>\n",
       "\t<li>'TrafficType'</li>\n",
       "\t<li>'VisitorType'</li>\n",
       "\t<li>'Weekend'</li>\n",
       "\t<li>'Revenue'</li>\n",
       "</ol>\n"
      ],
      "text/latex": [
       "\\begin{enumerate*}\n",
       "\\item 'Administrative'\n",
       "\\item 'Administrative\\_Duration'\n",
       "\\item 'Informational'\n",
       "\\item 'Informational\\_Duration'\n",
       "\\item 'ProductRelated'\n",
       "\\item 'ProductRelated\\_Duration'\n",
       "\\item 'BounceRates'\n",
       "\\item 'ExitRates'\n",
       "\\item 'PageValues'\n",
       "\\item 'SpecialDay'\n",
       "\\item 'Month'\n",
       "\\item 'OperatingSystems'\n",
       "\\item 'Browser'\n",
       "\\item 'Region'\n",
       "\\item 'TrafficType'\n",
       "\\item 'VisitorType'\n",
       "\\item 'Weekend'\n",
       "\\item 'Revenue'\n",
       "\\end{enumerate*}\n"
      ],
      "text/markdown": [
       "1. 'Administrative'\n",
       "2. 'Administrative_Duration'\n",
       "3. 'Informational'\n",
       "4. 'Informational_Duration'\n",
       "5. 'ProductRelated'\n",
       "6. 'ProductRelated_Duration'\n",
       "7. 'BounceRates'\n",
       "8. 'ExitRates'\n",
       "9. 'PageValues'\n",
       "10. 'SpecialDay'\n",
       "11. 'Month'\n",
       "12. 'OperatingSystems'\n",
       "13. 'Browser'\n",
       "14. 'Region'\n",
       "15. 'TrafficType'\n",
       "16. 'VisitorType'\n",
       "17. 'Weekend'\n",
       "18. 'Revenue'\n",
       "\n",
       "\n"
      ],
      "text/plain": [
       " [1] \"Administrative\"          \"Administrative_Duration\"\n",
       " [3] \"Informational\"           \"Informational_Duration\" \n",
       " [5] \"ProductRelated\"          \"ProductRelated_Duration\"\n",
       " [7] \"BounceRates\"             \"ExitRates\"              \n",
       " [9] \"PageValues\"              \"SpecialDay\"             \n",
       "[11] \"Month\"                   \"OperatingSystems\"       \n",
       "[13] \"Browser\"                 \"Region\"                 \n",
       "[15] \"TrafficType\"             \"VisitorType\"            \n",
       "[17] \"Weekend\"                 \"Revenue\"                "
      ]
     },
     "metadata": {},
     "output_type": "display_data"
    }
   ],
   "source": [
    "names(customer)"
   ]
  },
  {
   "cell_type": "code",
   "execution_count": 8,
   "metadata": {},
   "outputs": [
    {
     "data": {
      "text/html": [
       "'data.frame'"
      ],
      "text/latex": [
       "'data.frame'"
      ],
      "text/markdown": [
       "'data.frame'"
      ],
      "text/plain": [
       "[1] \"data.frame\""
      ]
     },
     "metadata": {},
     "output_type": "display_data"
    }
   ],
   "source": [
    "class(customer)"
   ]
  },
  {
   "cell_type": "code",
   "execution_count": 9,
   "metadata": {},
   "outputs": [
    {
     "name": "stdout",
     "output_type": "stream",
     "text": [
      "'data.frame':\t12330 obs. of  18 variables:\n",
      " $ Administrative         : int  0 0 0 0 0 0 0 1 0 0 ...\n",
      " $ Administrative_Duration: num  0 0 -1 0 0 0 -1 -1 0 0 ...\n",
      " $ Informational          : int  0 0 0 0 0 0 0 0 0 0 ...\n",
      " $ Informational_Duration : num  0 0 -1 0 0 0 -1 -1 0 0 ...\n",
      " $ ProductRelated         : int  1 2 1 2 10 19 1 1 2 3 ...\n",
      " $ ProductRelated_Duration: num  0 64 -1 2.67 627.5 ...\n",
      " $ BounceRates            : num  0.2 0 0.2 0.05 0.02 ...\n",
      " $ ExitRates              : num  0.2 0.1 0.2 0.14 0.05 ...\n",
      " $ PageValues             : num  0 0 0 0 0 0 0 0 0 0 ...\n",
      " $ SpecialDay             : num  0 0 0 0 0 0 0.4 0 0.8 0.4 ...\n",
      " $ Month                  : Factor w/ 10 levels \"Aug\",\"Dec\",\"Feb\",..: 3 3 3 3 3 3 3 3 3 3 ...\n",
      " $ OperatingSystems       : int  1 2 4 3 3 2 2 1 2 2 ...\n",
      " $ Browser                : int  1 2 1 2 3 2 4 2 2 4 ...\n",
      " $ Region                 : int  1 1 9 2 1 1 3 1 2 1 ...\n",
      " $ TrafficType            : int  1 2 3 4 4 3 3 5 3 2 ...\n",
      " $ VisitorType            : Factor w/ 3 levels \"New_Visitor\",..: 3 3 3 3 3 3 3 3 3 3 ...\n",
      " $ Weekend                : logi  FALSE FALSE FALSE FALSE TRUE FALSE ...\n",
      " $ Revenue                : logi  FALSE FALSE FALSE FALSE FALSE FALSE ...\n"
     ]
    }
   ],
   "source": [
    "str(customer)"
   ]
  },
  {
   "cell_type": "code",
   "execution_count": 10,
   "metadata": {},
   "outputs": [
    {
     "name": "stdout",
     "output_type": "stream",
     "text": [
      "Observations: 12,330\n",
      "Variables: 18\n",
      "$ Administrative          <int> 0, 0, 0, 0, 0, 0, 0, 1, 0, 0, 0, 0, 0, 0, 0...\n",
      "$ Administrative_Duration <dbl> 0, 0, -1, 0, 0, 0, -1, -1, 0, 0, 0, 0, 0, 0...\n",
      "$ Informational           <int> 0, 0, 0, 0, 0, 0, 0, 0, 0, 0, 0, 0, 0, 0, 0...\n",
      "$ Informational_Duration  <dbl> 0, 0, -1, 0, 0, 0, -1, -1, 0, 0, 0, 0, 0, 0...\n",
      "$ ProductRelated          <int> 1, 2, 1, 2, 10, 19, 1, 1, 2, 3, 3, 16, 7, 6...\n",
      "$ ProductRelated_Duration <dbl> 0.000000, 64.000000, -1.000000, 2.666667, 6...\n",
      "$ BounceRates             <dbl> 0.200000000, 0.000000000, 0.200000000, 0.05...\n",
      "$ ExitRates               <dbl> 0.200000000, 0.100000000, 0.200000000, 0.14...\n",
      "$ PageValues              <dbl> 0, 0, 0, 0, 0, 0, 0, 0, 0, 0, 0, 0, 0, 0, 0...\n",
      "$ SpecialDay              <dbl> 0.0, 0.0, 0.0, 0.0, 0.0, 0.0, 0.4, 0.0, 0.8...\n",
      "$ Month                   <fct> Feb, Feb, Feb, Feb, Feb, Feb, Feb, Feb, Feb...\n",
      "$ OperatingSystems        <int> 1, 2, 4, 3, 3, 2, 2, 1, 2, 2, 1, 1, 1, 2, 3...\n",
      "$ Browser                 <int> 1, 2, 1, 2, 3, 2, 4, 2, 2, 4, 1, 1, 1, 5, 2...\n",
      "$ Region                  <int> 1, 1, 9, 2, 1, 1, 3, 1, 2, 1, 3, 4, 1, 1, 3...\n",
      "$ TrafficType             <int> 1, 2, 3, 4, 4, 3, 3, 5, 3, 2, 3, 3, 3, 3, 3...\n",
      "$ VisitorType             <fct> Returning_Visitor, Returning_Visitor, Retur...\n",
      "$ Weekend                 <lgl> FALSE, FALSE, FALSE, FALSE, TRUE, FALSE, FA...\n",
      "$ Revenue                 <lgl> FALSE, FALSE, FALSE, FALSE, FALSE, FALSE, F...\n"
     ]
    }
   ],
   "source": [
    "glimpse(customer)"
   ]
  },
  {
   "cell_type": "code",
   "execution_count": 11,
   "metadata": {},
   "outputs": [
    {
     "data": {
      "text/plain": [
       " Administrative   Administrative_Duration Informational   \n",
       " Min.   : 0.000   Min.   :  -1.00         Min.   : 0.000  \n",
       " 1st Qu.: 0.000   1st Qu.:   0.00         1st Qu.: 0.000  \n",
       " Median : 1.000   Median :   8.00         Median : 0.000  \n",
       " Mean   : 2.318   Mean   :  80.91         Mean   : 0.504  \n",
       " 3rd Qu.: 4.000   3rd Qu.:  93.50         3rd Qu.: 0.000  \n",
       " Max.   :27.000   Max.   :3398.75         Max.   :24.000  \n",
       " NA's   :14       NA's   :14              NA's   :14      \n",
       " Informational_Duration ProductRelated   ProductRelated_Duration\n",
       " Min.   :  -1.00        Min.   :  0.00   Min.   :   -1.0        \n",
       " 1st Qu.:   0.00        1st Qu.:  7.00   1st Qu.:  185.0        \n",
       " Median :   0.00        Median : 18.00   Median :  599.8        \n",
       " Mean   :  34.51        Mean   : 31.76   Mean   : 1196.0        \n",
       " 3rd Qu.:   0.00        3rd Qu.: 38.00   3rd Qu.: 1466.5        \n",
       " Max.   :2549.38        Max.   :705.00   Max.   :63973.5        \n",
       " NA's   :14             NA's   :14       NA's   :14             \n",
       "  BounceRates         ExitRates         PageValues        SpecialDay     \n",
       " Min.   :0.000000   Min.   :0.00000   Min.   :  0.000   Min.   :0.00000  \n",
       " 1st Qu.:0.000000   1st Qu.:0.01429   1st Qu.:  0.000   1st Qu.:0.00000  \n",
       " Median :0.003119   Median :0.02512   Median :  0.000   Median :0.00000  \n",
       " Mean   :0.022152   Mean   :0.04300   Mean   :  5.889   Mean   :0.06143  \n",
       " 3rd Qu.:0.016684   3rd Qu.:0.05000   3rd Qu.:  0.000   3rd Qu.:0.00000  \n",
       " Max.   :0.200000   Max.   :0.20000   Max.   :361.764   Max.   :1.00000  \n",
       " NA's   :14         NA's   :14                                           \n",
       "     Month      OperatingSystems    Browser           Region     \n",
       " May    :3364   Min.   :1.000    Min.   : 1.000   Min.   :1.000  \n",
       " Nov    :2998   1st Qu.:2.000    1st Qu.: 2.000   1st Qu.:1.000  \n",
       " Mar    :1907   Median :2.000    Median : 2.000   Median :3.000  \n",
       " Dec    :1727   Mean   :2.124    Mean   : 2.357   Mean   :3.147  \n",
       " Oct    : 549   3rd Qu.:3.000    3rd Qu.: 2.000   3rd Qu.:4.000  \n",
       " Sep    : 448   Max.   :8.000    Max.   :13.000   Max.   :9.000  \n",
       " (Other):1337                                                    \n",
       "  TrafficType               VisitorType     Weekend         Revenue       \n",
       " Min.   : 1.00   New_Visitor      : 1694   Mode :logical   Mode :logical  \n",
       " 1st Qu.: 2.00   Other            :   85   FALSE:9462      FALSE:10422    \n",
       " Median : 2.00   Returning_Visitor:10551   TRUE :2868      TRUE :1908     \n",
       " Mean   : 4.07                                                            \n",
       " 3rd Qu.: 4.00                                                            \n",
       " Max.   :20.00                                                            \n",
       "                                                                          "
      ]
     },
     "metadata": {},
     "output_type": "display_data"
    }
   ],
   "source": [
    "summary(customer)"
   ]
  },
  {
   "cell_type": "code",
   "execution_count": 12,
   "metadata": {
    "scrolled": true
   },
   "outputs": [
    {
     "data": {
      "text/html": [
       "<dl class=dl-horizontal>\n",
       "\t<dt>Administrative</dt>\n",
       "\t\t<dd>14</dd>\n",
       "\t<dt>Administrative_Duration</dt>\n",
       "\t\t<dd>14</dd>\n",
       "\t<dt>Informational</dt>\n",
       "\t\t<dd>14</dd>\n",
       "\t<dt>Informational_Duration</dt>\n",
       "\t\t<dd>14</dd>\n",
       "\t<dt>ProductRelated</dt>\n",
       "\t\t<dd>14</dd>\n",
       "\t<dt>ProductRelated_Duration</dt>\n",
       "\t\t<dd>14</dd>\n",
       "\t<dt>BounceRates</dt>\n",
       "\t\t<dd>14</dd>\n",
       "\t<dt>ExitRates</dt>\n",
       "\t\t<dd>14</dd>\n",
       "\t<dt>PageValues</dt>\n",
       "\t\t<dd>0</dd>\n",
       "\t<dt>SpecialDay</dt>\n",
       "\t\t<dd>0</dd>\n",
       "\t<dt>Month</dt>\n",
       "\t\t<dd>0</dd>\n",
       "\t<dt>OperatingSystems</dt>\n",
       "\t\t<dd>0</dd>\n",
       "\t<dt>Browser</dt>\n",
       "\t\t<dd>0</dd>\n",
       "\t<dt>Region</dt>\n",
       "\t\t<dd>0</dd>\n",
       "\t<dt>TrafficType</dt>\n",
       "\t\t<dd>0</dd>\n",
       "\t<dt>VisitorType</dt>\n",
       "\t\t<dd>0</dd>\n",
       "\t<dt>Weekend</dt>\n",
       "\t\t<dd>0</dd>\n",
       "\t<dt>Revenue</dt>\n",
       "\t\t<dd>0</dd>\n",
       "</dl>\n"
      ],
      "text/latex": [
       "\\begin{description*}\n",
       "\\item[Administrative] 14\n",
       "\\item[Administrative\\textbackslash{}\\_Duration] 14\n",
       "\\item[Informational] 14\n",
       "\\item[Informational\\textbackslash{}\\_Duration] 14\n",
       "\\item[ProductRelated] 14\n",
       "\\item[ProductRelated\\textbackslash{}\\_Duration] 14\n",
       "\\item[BounceRates] 14\n",
       "\\item[ExitRates] 14\n",
       "\\item[PageValues] 0\n",
       "\\item[SpecialDay] 0\n",
       "\\item[Month] 0\n",
       "\\item[OperatingSystems] 0\n",
       "\\item[Browser] 0\n",
       "\\item[Region] 0\n",
       "\\item[TrafficType] 0\n",
       "\\item[VisitorType] 0\n",
       "\\item[Weekend] 0\n",
       "\\item[Revenue] 0\n",
       "\\end{description*}\n"
      ],
      "text/markdown": [
       "Administrative\n",
       ":   14Administrative_Duration\n",
       ":   14Informational\n",
       ":   14Informational_Duration\n",
       ":   14ProductRelated\n",
       ":   14ProductRelated_Duration\n",
       ":   14BounceRates\n",
       ":   14ExitRates\n",
       ":   14PageValues\n",
       ":   0SpecialDay\n",
       ":   0Month\n",
       ":   0OperatingSystems\n",
       ":   0Browser\n",
       ":   0Region\n",
       ":   0TrafficType\n",
       ":   0VisitorType\n",
       ":   0Weekend\n",
       ":   0Revenue\n",
       ":   0\n",
       "\n"
      ],
      "text/plain": [
       "         Administrative Administrative_Duration           Informational \n",
       "                     14                      14                      14 \n",
       " Informational_Duration          ProductRelated ProductRelated_Duration \n",
       "                     14                      14                      14 \n",
       "            BounceRates               ExitRates              PageValues \n",
       "                     14                      14                       0 \n",
       "             SpecialDay                   Month        OperatingSystems \n",
       "                      0                       0                       0 \n",
       "                Browser                  Region             TrafficType \n",
       "                      0                       0                       0 \n",
       "            VisitorType                 Weekend                 Revenue \n",
       "                      0                       0                       0 "
      ]
     },
     "metadata": {},
     "output_type": "display_data"
    }
   ],
   "source": [
    "colSums(is.na(customer))"
   ]
  },
  {
   "cell_type": "code",
   "execution_count": 13,
   "metadata": {},
   "outputs": [
    {
     "data": {
      "image/png": "[encoded data removed]",
      "text/plain": [
       "plot without title"
      ]
     },
     "metadata": {},
     "output_type": "display_data"
    }
   ],
   "source": [
    "options(repr.plot.width=8, repr.plot.height=6)\n",
    "# look for missing values using the DataExplorer package\n",
    "plot_missing(customer)"
   ]
  },
  {
   "cell_type": "markdown",
   "metadata": {},
   "source": [
    "viewing the dataset size and the missing value plot looks like we \n",
    "drop the missing values and stil have  a good dataset to work on but we shall not drop them.\n"
   ]
  },
  {
   "cell_type": "code",
   "execution_count": 15,
   "metadata": {},
   "outputs": [],
   "source": [
    "#we convert the categorical datatype"
   ]
  },
  {
   "cell_type": "markdown",
   "metadata": {},
   "source": [
    "DATA CLEANING"
   ]
  },
  {
   "cell_type": "markdown",
   "metadata": {},
   "source": [
    "The above dataset has missing values. we shall fill the missing values with their respective means as below"
   ]
  },
  {
   "cell_type": "code",
   "execution_count": 16,
   "metadata": {
    "scrolled": true
   },
   "outputs": [],
   "source": [
    "# IMPUTING NULL VALUES\n",
    "customer = customer %>%\n",
    "   mutate(Administrative =replace(Administrative,is.na(Administrative),mean(Administrative,na.rm=TRUE)))%>%\n",
    "   mutate(Administrative_Duration =replace(Administrative_Duration,is.na(Administrative_Duration),mean(Administrative_Duration,na.rm=TRUE)))%>%\n",
    "   mutate(Informational =replace(Informational,is.na(Informational),mean(Informational,na.rm=TRUE)))%>%\n",
    "   mutate(Informational_Duration =replace(Informational_Duration,is.na(Informational_Duration),mean(Informational_Duration,na.rm=TRUE)))%>%\n",
    "   mutate(ProductRelated =replace(ProductRelated,is.na(ProductRelated),mean(ProductRelated,na.rm=TRUE)))%>%\n",
    "   mutate(ProductRelated_Duration =replace(ProductRelated_Duration,is.na(ProductRelated_Duration),mean(ProductRelated_Duration,na.rm=TRUE)))%>%\n",
    "   mutate(BounceRates =replace(BounceRates,is.na(BounceRates),mean(BounceRates,na.rm=TRUE)))%>%\n",
    "   mutate(ExitRates =replace(ExitRates,is.na(ExitRates),mean(ExitRates,na.rm=TRUE)))\n"
   ]
  },
  {
   "cell_type": "code",
   "execution_count": 17,
   "metadata": {},
   "outputs": [
    {
     "data": {
      "text/html": [
       "<dl class=dl-horizontal>\n",
       "\t<dt>Administrative</dt>\n",
       "\t\t<dd>0</dd>\n",
       "\t<dt>Administrative_Duration</dt>\n",
       "\t\t<dd>0</dd>\n",
       "\t<dt>Informational</dt>\n",
       "\t\t<dd>0</dd>\n",
       "\t<dt>Informational_Duration</dt>\n",
       "\t\t<dd>0</dd>\n",
       "\t<dt>ProductRelated</dt>\n",
       "\t\t<dd>0</dd>\n",
       "\t<dt>ProductRelated_Duration</dt>\n",
       "\t\t<dd>0</dd>\n",
       "\t<dt>BounceRates</dt>\n",
       "\t\t<dd>0</dd>\n",
       "\t<dt>ExitRates</dt>\n",
       "\t\t<dd>0</dd>\n",
       "\t<dt>PageValues</dt>\n",
       "\t\t<dd>0</dd>\n",
       "\t<dt>SpecialDay</dt>\n",
       "\t\t<dd>0</dd>\n",
       "\t<dt>Month</dt>\n",
       "\t\t<dd>0</dd>\n",
       "\t<dt>OperatingSystems</dt>\n",
       "\t\t<dd>0</dd>\n",
       "\t<dt>Browser</dt>\n",
       "\t\t<dd>0</dd>\n",
       "\t<dt>Region</dt>\n",
       "\t\t<dd>0</dd>\n",
       "\t<dt>TrafficType</dt>\n",
       "\t\t<dd>0</dd>\n",
       "\t<dt>VisitorType</dt>\n",
       "\t\t<dd>0</dd>\n",
       "\t<dt>Weekend</dt>\n",
       "\t\t<dd>0</dd>\n",
       "\t<dt>Revenue</dt>\n",
       "\t\t<dd>0</dd>\n",
       "</dl>\n"
      ],
      "text/latex": [
       "\\begin{description*}\n",
       "\\item[Administrative] 0\n",
       "\\item[Administrative\\textbackslash{}\\_Duration] 0\n",
       "\\item[Informational] 0\n",
       "\\item[Informational\\textbackslash{}\\_Duration] 0\n",
       "\\item[ProductRelated] 0\n",
       "\\item[ProductRelated\\textbackslash{}\\_Duration] 0\n",
       "\\item[BounceRates] 0\n",
       "\\item[ExitRates] 0\n",
       "\\item[PageValues] 0\n",
       "\\item[SpecialDay] 0\n",
       "\\item[Month] 0\n",
       "\\item[OperatingSystems] 0\n",
       "\\item[Browser] 0\n",
       "\\item[Region] 0\n",
       "\\item[TrafficType] 0\n",
       "\\item[VisitorType] 0\n",
       "\\item[Weekend] 0\n",
       "\\item[Revenue] 0\n",
       "\\end{description*}\n"
      ],
      "text/markdown": [
       "Administrative\n",
       ":   0Administrative_Duration\n",
       ":   0Informational\n",
       ":   0Informational_Duration\n",
       ":   0ProductRelated\n",
       ":   0ProductRelated_Duration\n",
       ":   0BounceRates\n",
       ":   0ExitRates\n",
       ":   0PageValues\n",
       ":   0SpecialDay\n",
       ":   0Month\n",
       ":   0OperatingSystems\n",
       ":   0Browser\n",
       ":   0Region\n",
       ":   0TrafficType\n",
       ":   0VisitorType\n",
       ":   0Weekend\n",
       ":   0Revenue\n",
       ":   0\n",
       "\n"
      ],
      "text/plain": [
       "         Administrative Administrative_Duration           Informational \n",
       "                      0                       0                       0 \n",
       " Informational_Duration          ProductRelated ProductRelated_Duration \n",
       "                      0                       0                       0 \n",
       "            BounceRates               ExitRates              PageValues \n",
       "                      0                       0                       0 \n",
       "             SpecialDay                   Month        OperatingSystems \n",
       "                      0                       0                       0 \n",
       "                Browser                  Region             TrafficType \n",
       "                      0                       0                       0 \n",
       "            VisitorType                 Weekend                 Revenue \n",
       "                      0                       0                       0 "
      ]
     },
     "metadata": {},
     "output_type": "display_data"
    }
   ],
   "source": [
    "#we check whether the missing values were filled successfully.\n",
    "colSums(is.na(customer))"
   ]
  },
  {
   "cell_type": "code",
   "execution_count": 18,
   "metadata": {},
   "outputs": [],
   "source": [
    "#for our visualization we need to have our features in the correct\n",
    "#data types so we convert the appropriate features into factors\n",
    "customer$Region <- as.factor(customer$Region)\n",
    "customer$VisitorType <- as.factor(customer$VisitorType)\n",
    "customer$Weekend <- as.factor(customer$Weekend)\n",
    "customer$OperatingSystems <- as.factor(customer$OperatingSystems)\n",
    "customer$Informational <- as.factor(customer$Informational)\n",
    "customer$ProductRelated <- as.factor(customer$ProductRelated)\n",
    "customer$SpecialDay <- as.factor(customer$SpecialDay)\n",
    "customer$Administrative <- as.factor(customer$Administrative)\n"
   ]
  },
  {
   "cell_type": "code",
   "execution_count": 20,
   "metadata": {},
   "outputs": [
    {
     "data": {
      "image/png": "[encoded data removed]",
      "text/plain": [
       "Plot with title \"BOXPLOT OF BROWSER\""
      ]
     },
     "metadata": {},
     "output_type": "display_data"
    }
   ],
   "source": [
    "boxplot(customer$Browser,\n",
    "        main = toupper(\"Boxplot of Browser\"),\n",
    "        ylab = \"Browser\",\n",
    "        col = \"maroon\")"
   ]
  },
  {
   "cell_type": "code",
   "execution_count": 21,
   "metadata": {},
   "outputs": [
    {
     "data": {
      "image/png": "[encoded data removed]",
      "text/plain": [
       "Plot with title \"BOXPLOT OF BOUNCERATES\""
      ]
     },
     "metadata": {},
     "output_type": "display_data"
    }
   ],
   "source": [
    "boxplot(customer$BounceRates,\n",
    "        main = toupper(\"Boxplot of BounceRates\"),\n",
    "        ylab = \"BounceRates\",\n",
    "        col = \"maroon\")"
   ]
  },
  {
   "cell_type": "code",
   "execution_count": 22,
   "metadata": {},
   "outputs": [
    {
     "data": {
      "image/png": "[encoded data removed]",
      "text/plain": [
       "Plot with title \"BOXPLOT OF EXITRATES\""
      ]
     },
     "metadata": {},
     "output_type": "display_data"
    }
   ],
   "source": [
    "boxplot(customer$ExitRates,\n",
    "        main = toupper(\"Boxplot of ExitRates\"),\n",
    "        ylab = \"ExitRates\",\n",
    "        col = \"maroon\")"
   ]
  },
  {
   "cell_type": "code",
   "execution_count": 24,
   "metadata": {},
   "outputs": [
    {
     "data": {
      "image/png": "[encoded data removed]",
      "text/plain": [
       "Plot with title \"BOXPLOT OF PAGEVALUES\""
      ]
     },
     "metadata": {},
     "output_type": "display_data"
    }
   ],
   "source": [
    "boxplot(customer$PageValues,\n",
    "        main = toupper(\"Boxplot of PageValues\"),\n",
    "        ylab = \"PageValues\",\n",
    "        col = \"maroon\")"
   ]
  },
  {
   "cell_type": "code",
   "execution_count": 25,
   "metadata": {},
   "outputs": [
    {
     "data": {
      "image/png": "[encoded data removed]",
      "text/plain": [
       "Plot with title \"BOXPLOT OF TRAFFICTYPE\""
      ]
     },
     "metadata": {},
     "output_type": "display_data"
    }
   ],
   "source": [
    "boxplot(customer$TrafficType,\n",
    "        main = toupper(\"Boxplot of TrafficType\"),\n",
    "        ylab = \"TrafficType\",\n",
    "        col = \"maroon\")"
   ]
  },
  {
   "cell_type": "markdown",
   "metadata": {},
   "source": [
    "our dataset has outliers in the columns Traffic type,pagevalues,exitrates, bouncerates, browsers . we shall work with an assumption that all outliers are to be investigated so we shall retain them.\n",
    "we also hope to use them in our analysis in that we shall visualize our analysis with and without them then we compare"
   ]
  },
  {
   "cell_type": "code",
   "execution_count": null,
   "metadata": {},
   "outputs": [],
   "source": []
  },
  {
   "cell_type": "markdown",
   "metadata": {},
   "source": [
    "UNIVARIATE ANALYSIS"
   ]
  },
  {
   "cell_type": "code",
   "execution_count": 59,
   "metadata": {},
   "outputs": [
    {
     "data": {
      "image/png": "[encoded data removed]",
      "text/plain": [
       "plot without title"
      ]
     },
     "metadata": {},
     "output_type": "display_data"
    }
   ],
   "source": [
    "ggplot(data = customer) +\n",
    "  geom_bar(mapping = aes(x = Weekend))"
   ]
  },
  {
   "cell_type": "markdown",
   "metadata": {},
   "source": [
    "there were more observations recorded on weekdays than on weekends. this also paintts a pictur of the dataset being imbalanced"
   ]
  },
  {
   "cell_type": "code",
   "execution_count": 60,
   "metadata": {},
   "outputs": [
    {
     "data": {
      "image/png": "[encoded data removed]",
      "text/plain": [
       "plot without title"
      ]
     },
     "metadata": {},
     "output_type": "display_data"
    }
   ],
   "source": [
    "ggplot(data = customer) +\n",
    "  geom_bar(mapping = aes(x = Month))"
   ]
  },
  {
   "cell_type": "code",
   "execution_count": 61,
   "metadata": {},
   "outputs": [
    {
     "data": {
      "image/png": "[encoded data removed]",
      "text/plain": [
       "plot without title"
      ]
     },
     "metadata": {},
     "output_type": "display_data"
    }
   ],
   "source": [
    "ggplot(data = customer) +\n",
    "  geom_bar(mapping = aes(x = Revenue))"
   ]
  },
  {
   "cell_type": "code",
   "execution_count": 65,
   "metadata": {},
   "outputs": [
    {
     "data": {
      "image/png": "[encoded data removed]",
      "text/plain": [
       "plot without title"
      ]
     },
     "metadata": {},
     "output_type": "display_data"
    }
   ],
   "source": [
    "ggplot(data = customer) +\n",
    "  geom_histogram(mapping = aes(x = ProductRelated_Duration), binwidth = 0.5)"
   ]
  },
  {
   "cell_type": "code",
   "execution_count": 63,
   "metadata": {},
   "outputs": [
    {
     "data": {
      "image/png": "[encoded data removed]",
      "text/plain": [
       "plot without title"
      ]
     },
     "metadata": {},
     "output_type": "display_data"
    }
   ],
   "source": [
    "ggplot(data = customer) +\n",
    "  geom_histogram(mapping = aes(x = TrafficType), binwidth = 0.5)"
   ]
  },
  {
   "cell_type": "code",
   "execution_count": 27,
   "metadata": {},
   "outputs": [
    {
     "data": {
      "image/png": "[encoded data removed]",
      "text/plain": [
       "Plot with title \"histogram of TrafficType\""
      ]
     },
     "metadata": {},
     "output_type": "display_data"
    }
   ],
   "source": [
    "hist(customer$TrafficType,\n",
    "    main = \"histogram of TrafficType\",\n",
    "    xlab = \"TrafficType\",\n",
    "    col = \"darkmagenta\")"
   ]
  },
  {
   "cell_type": "code",
   "execution_count": 32,
   "metadata": {},
   "outputs": [
    {
     "data": {
      "image/png": "[encoded data removed]",
      "text/plain": [
       "Plot with title \"Kernel density of ExitRate\""
      ]
     },
     "metadata": {},
     "output_type": "display_data"
    }
   ],
   "source": [
    "d <- density(customer$ExitRates)\n",
    "plot(d, main = \"Kernel density of ExitRate\")\n",
    "polygon(d, col = \"red\", border = \"blue\")"
   ]
  },
  {
   "cell_type": "code",
   "execution_count": 31,
   "metadata": {},
   "outputs": [
    {
     "data": {
      "image/png": "[encoded data removed]",
      "text/plain": [
       "Plot with title \"Kernel density of BounceRates\""
      ]
     },
     "metadata": {},
     "output_type": "display_data"
    }
   ],
   "source": [
    "d <- density(customer$BounceRates)\n",
    "plot(d, main = \"Kernel density of BounceRates\")\n",
    "polygon(d, col = \"red\", border = \"blue\")"
   ]
  },
  {
   "cell_type": "markdown",
   "metadata": {},
   "source": [
    "BIVARIATE ANALYSIS"
   ]
  },
  {
   "cell_type": "markdown",
   "metadata": {},
   "source": [
    "Revenue versus other variables"
   ]
  },
  {
   "cell_type": "code",
   "execution_count": 42,
   "metadata": {},
   "outputs": [
    {
     "data": {
      "image/png": "[encoded data removed]",
      "text/plain": [
       "plot without title"
      ]
     },
     "metadata": {},
     "output_type": "display_data"
    }
   ],
   "source": [
    "ggplot(data = customer) + \n",
    "  geom_point(mapping = aes(x = BounceRates, y = Revenue, color = Region))"
   ]
  },
  {
   "cell_type": "code",
   "execution_count": 44,
   "metadata": {},
   "outputs": [
    {
     "data": {
      "image/png": "[encoded data removed]",
      "text/plain": [
       "plot without title"
      ]
     },
     "metadata": {},
     "output_type": "display_data"
    }
   ],
   "source": [
    "ggplot(data = customer) + \n",
    "  geom_point(mapping = aes(x = PageValues, y = Revenue, color = Weekend))"
   ]
  },
  {
   "cell_type": "markdown",
   "metadata": {},
   "source": [
    "Most of the pagevalues translated into revenues. \n"
   ]
  },
  {
   "cell_type": "code",
   "execution_count": 48,
   "metadata": {},
   "outputs": [
    {
     "data": {
      "image/png": "[encoded data removed]",
      "text/plain": [
       "plot without title"
      ]
     },
     "metadata": {},
     "output_type": "display_data"
    }
   ],
   "source": [
    "ggplot(data = customer) + \n",
    "  geom_point(mapping = aes(x = ExitRates, y = Revenue, color = Weekend))"
   ]
  },
  {
   "cell_type": "markdown",
   "metadata": {},
   "source": [
    "most of the exit rates did not translate to revenues"
   ]
  },
  {
   "cell_type": "code",
   "execution_count": 49,
   "metadata": {},
   "outputs": [
    {
     "data": {
      "image/png": "[encoded data removed]",
      "text/plain": [
       "plot without title"
      ]
     },
     "metadata": {},
     "output_type": "display_data"
    }
   ],
   "source": [
    "ggplot(data = customer) + \n",
    "  geom_point(mapping = aes(x = SpecialDay, y = PageValues, color = Weekend))"
   ]
  },
  {
   "cell_type": "markdown",
   "metadata": {},
   "source": [
    "special days had higher pagevalues on weekdays"
   ]
  },
  {
   "cell_type": "code",
   "execution_count": 58,
   "metadata": {},
   "outputs": [
    {
     "data": {
      "image/png": "[encoded data removed]",
      "text/plain": [
       "plot without title"
      ]
     },
     "metadata": {},
     "output_type": "display_data"
    }
   ],
   "source": [
    "ggplot(data = customer) + \n",
    "  geom_point(mapping = aes(x = SpecialDay,y = PageValues, color = Weekend))"
   ]
  },
  {
   "cell_type": "markdown",
   "metadata": {},
   "source": [
    "special day 0 had the highest page value"
   ]
  },
  {
   "cell_type": "code",
   "execution_count": null,
   "metadata": {},
   "outputs": [],
   "source": []
  },
  {
   "cell_type": "code",
   "execution_count": null,
   "metadata": {},
   "outputs": [],
   "source": []
  },
  {
   "cell_type": "code",
   "execution_count": null,
   "metadata": {},
   "outputs": [],
   "source": []
  },
  {
   "cell_type": "code",
   "execution_count": null,
   "metadata": {},
   "outputs": [],
   "source": []
  }
 ],
 "metadata": {
  "kernelspec": {
   "display_name": "R",
   "language": "R",
   "name": "ir"
  },
  "language_info": {
   "codemirror_mode": "r",
   "file_extension": ".r",
   "mimetype": "text/x-r-source",
   "name": "R",
   "pygments_lexer": "r",
   "version": "3.6.1"
  }
 },
 "nbformat": 4,
 "nbformat_minor": 2
}
